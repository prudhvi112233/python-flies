{
  "cells": [
    {
      "cell_type": "markdown",
      "id": "44f888cb",
      "metadata": {
        "id": "44f888cb"
      },
      "source": [
        "<a href=\"https://www.viharatech.com\"><img src=\"https://miro.medium.com/v2/resize:fit:828/format:webp/1*on2Bpj6A5gfd-CzaFOAZRA.jpeg\"></a>\n",
        "\n",
        "\n",
        "- `Welcome to our interactive learning session! In this Jupyter notebook, you'll find a series of questions related to Python Concept. To maximize your learning, please write Python code in the cell below each question and execute it. This hands-on practice will help reinforce your understanding of the concepts. Feel free to reach out if you have any questions or need assistance. Happy coding! 💻🐍 `"
      ]
    },
    {
      "cell_type": "raw",
      "id": "144f8dd9",
      "metadata": {
        "id": "144f8dd9"
      },
      "source": [
        "1 . Print the input text without vowels\n",
        "\n",
        "input = 'hai'\n",
        "\n",
        "Expected output = h"
      ]
    },
    {
      "cell_type": "code",
      "execution_count": null,
      "id": "cf1f9ca7",
      "metadata": {
        "id": "cf1f9ca7",
        "colab": {
          "base_uri": "https://localhost:8080/"
        },
        "outputId": "bc15e366-5753-4f6b-a213-007a096953b1"
      },
      "outputs": [
        {
          "output_type": "stream",
          "name": "stdout",
          "text": [
            "h\n"
          ]
        }
      ],
      "source": [
        "input='hai'\n",
        "a='aeiouAEIOU'\n",
        "s=''\n",
        "for i in input:\n",
        "  if i not in a:\n",
        "    s=s+i\n",
        "print(s)"
      ]
    },
    {
      "cell_type": "raw",
      "id": "9f0cbac6",
      "metadata": {
        "id": "9f0cbac6"
      },
      "source": [
        "2 . Print only vowels from the text\n",
        "\n",
        "input = data\n",
        "\n",
        "Expected output = dt"
      ]
    },
    {
      "cell_type": "code",
      "execution_count": null,
      "id": "a6c81c61",
      "metadata": {
        "id": "a6c81c61",
        "colab": {
          "base_uri": "https://localhost:8080/"
        },
        "outputId": "35526549-c4d9-485d-d602-5ce80b489125"
      },
      "outputs": [
        {
          "output_type": "stream",
          "name": "stdout",
          "text": [
            "aa\n"
          ]
        }
      ],
      "source": [
        "input='data'\n",
        "a='aeiouAEIOU'\n",
        "s=''\n",
        "for i in input:\n",
        "  if i in a:\n",
        "    s=s+i\n",
        "print(s)"
      ]
    },
    {
      "cell_type": "raw",
      "id": "6cbfe6e1",
      "metadata": {
        "id": "6cbfe6e1"
      },
      "source": [
        "3 . print each valu from the list with its index\n",
        "\n",
        "\n",
        "input = [10,11,50,34]\n",
        "\n",
        "Expected output = [100 , 111 , 502 , 343]"
      ]
    },
    {
      "cell_type": "code",
      "source": [],
      "metadata": {
        "id": "SS8nvqOVdGdd"
      },
      "id": "SS8nvqOVdGdd",
      "execution_count": null,
      "outputs": []
    },
    {
      "cell_type": "code",
      "execution_count": 1,
      "id": "d92cb8a3",
      "metadata": {
        "id": "d92cb8a3",
        "colab": {
          "base_uri": "https://localhost:8080/"
        },
        "outputId": "f6ead6aa-de2e-44db-d273-e869ba42fd3f"
      },
      "outputs": [
        {
          "output_type": "stream",
          "name": "stdout",
          "text": [
            "['100', '111', '502', '343']\n"
          ]
        }
      ],
      "source": [
        "input=[10,11,50,34]\n",
        "a=[]\n",
        "for i in range(0,len(input)):\n",
        "    a.append(f\"{input[i]}{i}\")\n",
        "\n",
        "print(a)\n",
        "\n",
        "\n"
      ]
    },
    {
      "cell_type": "raw",
      "id": "de670ddc",
      "metadata": {
        "id": "de670ddc"
      },
      "source": [
        "4 . This is a Python Program to print all integers that aren’t divisible by either 2 or 3 and lies between 1 and 50."
      ]
    },
    {
      "cell_type": "code",
      "execution_count": null,
      "id": "bf365d80",
      "metadata": {
        "id": "bf365d80",
        "colab": {
          "base_uri": "https://localhost:8080/"
        },
        "outputId": "97e11243-d0de-4397-b47d-4e5d1a51dd72"
      },
      "outputs": [
        {
          "output_type": "stream",
          "name": "stdout",
          "text": [
            "1 5 7 11 13 17 19 23 25 29 31 35 37 41 43 47 49 "
          ]
        }
      ],
      "source": [
        "for i in range(1,51):\n",
        "  if i%2!=0 and i%3!=0:\n",
        "    print(i,end=' ')"
      ]
    },
    {
      "cell_type": "raw",
      "id": "9f9b54af",
      "metadata": {
        "id": "9f9b54af"
      },
      "source": [
        "5 . The program takes in an integer and prints the smallest divisor of the integer."
      ]
    },
    {
      "cell_type": "code",
      "execution_count": 31,
      "id": "087e8e4b",
      "metadata": {
        "id": "087e8e4b",
        "colab": {
          "base_uri": "https://localhost:8080/"
        },
        "outputId": "3b0f46c8-df7d-424b-c127-81f9a6b78008"
      },
      "outputs": [
        {
          "output_type": "stream",
          "name": "stdout",
          "text": [
            "small divisor is 3\n"
          ]
        }
      ],
      "source": [
        "def hai(r):\n",
        "  for i in range(2,r+1):\n",
        "    if(r%i==0):\n",
        "      print('small divisor is',i)\n",
        "      return\n",
        "hai(9)"
      ]
    },
    {
      "cell_type": "raw",
      "id": "fe7c7e96",
      "metadata": {
        "id": "fe7c7e96"
      },
      "source": [
        "6 . Write a Python program to check if it is a strong number or not ."
      ]
    },
    {
      "cell_type": "code",
      "execution_count": 32,
      "id": "746703b2",
      "metadata": {
        "id": "746703b2",
        "colab": {
          "base_uri": "https://localhost:8080/"
        },
        "outputId": "ae6a1c0c-3b27-431e-d2fc-3ce6a52dd7df"
      },
      "outputs": [
        {
          "output_type": "stream",
          "name": "stdout",
          "text": [
            "145 is a strong number\n"
          ]
        }
      ],
      "source": [
        "import math\n",
        "a=145\n",
        "temp=a\n",
        "b=0\n",
        "while a>0:\n",
        "    r=a%10\n",
        "    b=b+math.factorial(r)\n",
        "    a=a//10\n",
        "if temp==b:\n",
        "    print(temp,\"is a strong number\")\n",
        "\n",
        "else:\n",
        "    print(temp,\"is not a strong number\")"
      ]
    },
    {
      "cell_type": "raw",
      "id": "6fccfd65",
      "metadata": {
        "id": "6fccfd65"
      },
      "source": [
        "7 . Write a Python program that takes input from the user and displays that input back in upper and lower cases."
      ]
    },
    {
      "cell_type": "code",
      "execution_count": 33,
      "id": "9c85b4a6",
      "metadata": {
        "id": "9c85b4a6",
        "colab": {
          "base_uri": "https://localhost:8080/",
          "height": 176
        },
        "outputId": "d9880e8a-4e8e-43a0-eacc-f54cad3edd98"
      },
      "outputs": [
        {
          "output_type": "error",
          "ename": "TypeError",
          "evalue": "'list' object is not callable",
          "traceback": [
            "\u001b[0;31m---------------------------------------------------------------------------\u001b[0m",
            "\u001b[0;31mTypeError\u001b[0m                                 Traceback (most recent call last)",
            "\u001b[0;32m<ipython-input-33-18c1c3f8d81b>\u001b[0m in \u001b[0;36m<cell line: 1>\u001b[0;34m()\u001b[0m\n\u001b[0;32m----> 1\u001b[0;31m \u001b[0mstr_input\u001b[0m\u001b[0;34m=\u001b[0m\u001b[0minput\u001b[0m\u001b[0;34m(\u001b[0m\u001b[0;34m\"enter the string\"\u001b[0m\u001b[0;34m)\u001b[0m\u001b[0;34m\u001b[0m\u001b[0;34m\u001b[0m\u001b[0m\n\u001b[0m\u001b[1;32m      2\u001b[0m \u001b[0mprint\u001b[0m\u001b[0;34m(\u001b[0m\u001b[0mstr_input\u001b[0m\u001b[0;34m.\u001b[0m\u001b[0mupper\u001b[0m\u001b[0;34m(\u001b[0m\u001b[0;34m)\u001b[0m\u001b[0;34m)\u001b[0m\u001b[0;34m\u001b[0m\u001b[0;34m\u001b[0m\u001b[0m\n\u001b[1;32m      3\u001b[0m \u001b[0mprint\u001b[0m\u001b[0;34m(\u001b[0m\u001b[0mstr_input\u001b[0m\u001b[0;34m.\u001b[0m\u001b[0mlower\u001b[0m\u001b[0;34m(\u001b[0m\u001b[0;34m)\u001b[0m\u001b[0;34m)\u001b[0m\u001b[0;34m\u001b[0m\u001b[0;34m\u001b[0m\u001b[0m\n",
            "\u001b[0;31mTypeError\u001b[0m: 'list' object is not callable"
          ]
        }
      ],
      "source": [
        "str_input=input(\"enter the string\")\n",
        "print(str_input.upper())\n",
        "print(str_input.lower())"
      ]
    },
    {
      "cell_type": "raw",
      "id": "8e92ebb5",
      "metadata": {
        "id": "8e92ebb5"
      },
      "source": [
        "8 . Write a Python program to remove spaces from a given string\n",
        "\n",
        "- input = united states\n",
        "- output = unitedstates"
      ]
    },
    {
      "cell_type": "code",
      "execution_count": 21,
      "id": "5d8f2f1b",
      "metadata": {
        "id": "5d8f2f1b",
        "colab": {
          "base_uri": "https://localhost:8080/"
        },
        "outputId": "f44b7cc4-9cee-4457-bd61-6f4fe49b544a"
      },
      "outputs": [
        {
          "output_type": "stream",
          "name": "stdout",
          "text": [
            "unitedstates\n"
          ]
        }
      ],
      "source": [
        "a=\"united states\"\n",
        "b=a.replace(' ','')\n",
        "print(b)"
      ]
    },
    {
      "cell_type": "raw",
      "id": "0b1bc8da",
      "metadata": {
        "id": "0b1bc8da"
      },
      "source": [
        "9 . Write a Python program to capitalize first and last letters of each word of a given string."
      ]
    },
    {
      "cell_type": "code",
      "execution_count": 20,
      "id": "0642e4ef",
      "metadata": {
        "id": "0642e4ef",
        "colab": {
          "base_uri": "https://localhost:8080/"
        },
        "outputId": "6fd3037c-ae2b-41e8-a77d-d934925e3fe1"
      },
      "outputs": [
        {
          "output_type": "stream",
          "name": "stdout",
          "text": [
            "HellO PythoN\n"
          ]
        }
      ],
      "source": [
        "a='hello python'\n",
        "words=a.split()\n",
        "b=[]\n",
        "for i in words:\n",
        "    if len(i)>1:\n",
        "        word=i[0].upper() + i[1:-1] +i[-1].upper()\n",
        "        b.append(word)\n",
        "result=\" \".join(b)\n",
        "print(result)\n"
      ]
    },
    {
      "cell_type": "raw",
      "id": "77b5cd36",
      "metadata": {
        "id": "77b5cd36"
      },
      "source": [
        "10 . write a python program to find length of a string but should not use len keyword"
      ]
    },
    {
      "cell_type": "code",
      "source": [
        "a=\"hello world\"\n",
        "b=0\n",
        "for i in a:\n",
        "  b=b+1\n",
        "print(b)"
      ],
      "metadata": {
        "colab": {
          "base_uri": "https://localhost:8080/"
        },
        "id": "DofMKYsLiAdy",
        "outputId": "9f5ffda7-601d-4add-d535-fe7c31d3f412"
      },
      "id": "DofMKYsLiAdy",
      "execution_count": 19,
      "outputs": [
        {
          "output_type": "stream",
          "name": "stdout",
          "text": [
            "11\n"
          ]
        }
      ]
    },
    {
      "cell_type": "code",
      "source": [],
      "metadata": {
        "id": "U0c4UtRIiBcI"
      },
      "id": "U0c4UtRIiBcI",
      "execution_count": null,
      "outputs": []
    },
    {
      "cell_type": "code",
      "execution_count": null,
      "id": "4926f802",
      "metadata": {
        "id": "4926f802"
      },
      "outputs": [],
      "source": []
    }
  ],
  "metadata": {
    "kernelspec": {
      "display_name": "Python 3 (ipykernel)",
      "language": "python",
      "name": "python3"
    },
    "language_info": {
      "codemirror_mode": {
        "name": "ipython",
        "version": 3
      },
      "file_extension": ".py",
      "mimetype": "text/x-python",
      "name": "python",
      "nbconvert_exporter": "python",
      "pygments_lexer": "ipython3",
      "version": "3.11.5"
    },
    "colab": {
      "provenance": []
    }
  },
  "nbformat": 4,
  "nbformat_minor": 5
}